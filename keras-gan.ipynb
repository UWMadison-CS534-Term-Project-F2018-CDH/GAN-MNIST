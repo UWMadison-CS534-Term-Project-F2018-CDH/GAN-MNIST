{
  "nbformat": 4,
  "nbformat_minor": 0,
  "metadata": {
    "colab": {
      "name": "DCGAN.ipynb",
      "version": "0.3.2",
      "provenance": [],
      "collapsed_sections": []
    },
    "kernelspec": {
      "name": "python3",
      "display_name": "Python 3"
    },
    "accelerator": "GPU"
  },
  "cells": [
    {
      "metadata": {
        "id": "pvj_92ZBWYZm",
        "colab_type": "code",
        "colab": {}
      },
      "cell_type": "code",
      "source": [
        "# Makes plots / images embedded in the file\n",
        "%matplotlib inline"
      ],
      "execution_count": 0,
      "outputs": []
    },
    {
      "metadata": {
        "id": "HS3Oy4yPPgas",
        "colab_type": "code",
        "outputId": "0aeacae8-2b58-4466-d061-8d3653bbde02",
        "colab": {
          "base_uri": "https://localhost:8080/",
          "height": 34
        }
      },
      "cell_type": "code",
      "source": [
        "# Import data and keras layers\n",
        "import numpy as np\n",
        "from keras.datasets import mnist\n",
        "from keras import backend as k\n",
        "from keras.models import Model, Sequential\n",
        "from keras.layers import Input, Conv2D, UpSampling2D, Dense, Reshape\n",
        "from keras.layers import Flatten, Dropout, BatchNormalization, Activation\n",
        "from keras.layers.advanced_activations import LeakyReLU\n",
        "from keras.optimizers import Adam\n",
        "from tqdm import tqdm\n",
        "import matplotlib.pyplot as plt"
      ],
      "execution_count": 2,
      "outputs": [
        {
          "output_type": "stream",
          "text": [
            "Using TensorFlow backend.\n"
          ],
          "name": "stderr"
        }
      ]
    },
    {
      "metadata": {
        "id": "KPQzxLn_WVXU",
        "colab_type": "code",
        "colab": {}
      },
      "cell_type": "code",
      "source": [
        "(x1_train, y1_train), (x1_test, y1_test) = mnist.load_data()\n",
        "\n",
        "# Format data\n",
        "x1_train = x1_train.astype('float32')\n",
        "x1_test = x1_test.astype('float32') \n",
        "\n",
        "# Scaling to get the image in [-1, 1] range\n",
        "x1_train = (x1_train - 127.5) / 127.5\n",
        "x1_test = (x1_test - 127.5) / 127.5\n",
        "\n",
        "x1_train = np.reshape(x1_train, (len(x1_train), 28, 28, 1))\n",
        "x1_test = np.reshape(x1_test, (len(x1_test), 28, 28, 1))\n",
        "\n",
        "#Optimizer\n",
        "adam = Adam(lr=2e-4, beta_1=0.5)"
      ],
      "execution_count": 0,
      "outputs": []
    },
    {
      "metadata": {
        "id": "Hd_pBeu5Pga_",
        "colab_type": "code",
        "colab": {
          "base_uri": "https://localhost:8080/",
          "height": 527
        },
        "outputId": "19b03c48-f948-4b2a-ec9c-22894bc81e40"
      },
      "cell_type": "code",
      "source": [
        "# Creating the generator\n",
        "generator = Sequential()\n",
        "generator.add(Dense(128*7*7, input_dim = 100))\n",
        "generator.add(Activation('relu'))\n",
        "generator.add(BatchNormalization())\n",
        "generator.add(Reshape((7, 7, 128)))\n",
        "generator.add(UpSampling2D((2,2)))\n",
        "generator.add(Conv2D(64, kernel_size = (5, 5), padding = 'same'))\n",
        "generator.add(Activation('relu'))\n",
        "generator.add(BatchNormalization())\n",
        "generator.add(UpSampling2D((2,2)))\n",
        "generator.add(Conv2D(1, kernel_size = (5, 5), padding = 'same'))\n",
        "generator.add(Activation('tanh'))\n",
        "print(generator.summary())\n",
        "generator.compile(loss = 'binary_crossentropy', optimizer = adam)  "
      ],
      "execution_count": 4,
      "outputs": [
        {
          "output_type": "stream",
          "text": [
            "_________________________________________________________________\n",
            "Layer (type)                 Output Shape              Param #   \n",
            "=================================================================\n",
            "dense_1 (Dense)              (None, 6272)              633472    \n",
            "_________________________________________________________________\n",
            "activation_1 (Activation)    (None, 6272)              0         \n",
            "_________________________________________________________________\n",
            "batch_normalization_1 (Batch (None, 6272)              25088     \n",
            "_________________________________________________________________\n",
            "reshape_1 (Reshape)          (None, 7, 7, 128)         0         \n",
            "_________________________________________________________________\n",
            "up_sampling2d_1 (UpSampling2 (None, 14, 14, 128)       0         \n",
            "_________________________________________________________________\n",
            "conv2d_1 (Conv2D)            (None, 14, 14, 64)        204864    \n",
            "_________________________________________________________________\n",
            "activation_2 (Activation)    (None, 14, 14, 64)        0         \n",
            "_________________________________________________________________\n",
            "batch_normalization_2 (Batch (None, 14, 14, 64)        256       \n",
            "_________________________________________________________________\n",
            "up_sampling2d_2 (UpSampling2 (None, 28, 28, 64)        0         \n",
            "_________________________________________________________________\n",
            "conv2d_2 (Conv2D)            (None, 28, 28, 1)         1601      \n",
            "_________________________________________________________________\n",
            "activation_3 (Activation)    (None, 28, 28, 1)         0         \n",
            "=================================================================\n",
            "Total params: 865,281\n",
            "Trainable params: 852,609\n",
            "Non-trainable params: 12,672\n",
            "_________________________________________________________________\n",
            "None\n"
          ],
          "name": "stdout"
        }
      ]
    },
    {
      "metadata": {
        "id": "VzDKYRjNPgbH",
        "colab_type": "code",
        "colab": {
          "base_uri": "https://localhost:8080/",
          "height": 391
        },
        "outputId": "25880df6-6fa2-435b-c823-c17bcfe81e46"
      },
      "cell_type": "code",
      "source": [
        "# Creating the discriminator\n",
        "discriminator = Sequential()\n",
        "discriminator.add(Conv2D(64, kernel_size = (5, 5), strides = (2, 2), padding = 'same', input_shape = (28, 28, 1)))\n",
        "discriminator.add(LeakyReLU(0.2))\n",
        "discriminator.add(Conv2D(128, kernel_size = (5, 5), strides = (2, 2), padding = 'same'))\n",
        "discriminator.add(LeakyReLU(0.2))\n",
        "discriminator.add(Flatten())\n",
        "discriminator.add(Dropout(0.5))\n",
        "discriminator.add(Dense(1, activation = 'sigmoid'))\n",
        "print(discriminator.summary())\n",
        "discriminator.compile(loss = 'binary_crossentropy', optimizer = adam) "
      ],
      "execution_count": 5,
      "outputs": [
        {
          "output_type": "stream",
          "text": [
            "_________________________________________________________________\n",
            "Layer (type)                 Output Shape              Param #   \n",
            "=================================================================\n",
            "conv2d_3 (Conv2D)            (None, 14, 14, 64)        1664      \n",
            "_________________________________________________________________\n",
            "leaky_re_lu_1 (LeakyReLU)    (None, 14, 14, 64)        0         \n",
            "_________________________________________________________________\n",
            "conv2d_4 (Conv2D)            (None, 7, 7, 128)         204928    \n",
            "_________________________________________________________________\n",
            "leaky_re_lu_2 (LeakyReLU)    (None, 7, 7, 128)         0         \n",
            "_________________________________________________________________\n",
            "flatten_1 (Flatten)          (None, 6272)              0         \n",
            "_________________________________________________________________\n",
            "dropout_1 (Dropout)          (None, 6272)              0         \n",
            "_________________________________________________________________\n",
            "dense_2 (Dense)              (None, 1)                 6273      \n",
            "=================================================================\n",
            "Total params: 212,865\n",
            "Trainable params: 212,865\n",
            "Non-trainable params: 0\n",
            "_________________________________________________________________\n",
            "None\n"
          ],
          "name": "stdout"
        }
      ]
    },
    {
      "metadata": {
        "id": "nqgkD7H1PgbO",
        "colab_type": "code",
        "colab": {}
      },
      "cell_type": "code",
      "source": [
        "# Create the GAN\n",
        "discriminator.trainable = False\n",
        "gan = Sequential()\n",
        "gan.add(generator)\n",
        "gan.add(discriminator)\n",
        "gan.compile(loss = 'binary_crossentropy', optimizer = adam)"
      ],
      "execution_count": 0,
      "outputs": []
    },
    {
      "metadata": {
        "id": "LH0ETe4zhzNo",
        "colab_type": "code",
        "colab": {}
      },
      "cell_type": "code",
      "source": [
        "# Visualize generated data\n",
        "def plotGeneratedImages():\n",
        "  generated_images = generator.predict(noise)\n",
        "  fig = plt.figure(figsize=(9, 9))        \n",
        "  for i in range(9):\n",
        "    plt.subplot(3, 3, i+1)\n",
        "    img = generated_images[i, :] * 0.5 + 0.5\n",
        "    img = img.reshape((28, 28))\n",
        "    plt.tight_layout()\n",
        "    plt.imshow(img, cmap='gray')\n",
        "    plt.axis('off')"
      ],
      "execution_count": 0,
      "outputs": []
    },
    {
      "metadata": {
        "scrolled": false,
        "id": "P84lxNCePgbg",
        "colab_type": "code",
        "outputId": "001ffa31-a055-465c-9c4e-62e5f0ad21f5",
        "colab": {
          "base_uri": "https://localhost:8080/",
          "height": 825
        }
      },
      "cell_type": "code",
      "source": [
        "epochs = 10\n",
        "batch_size = 32\n",
        "\n",
        "batch_count = int(x1_train.shape[0] / batch_size)\n",
        "\n",
        "for epoch in range(epochs):\n",
        "\n",
        "    for index in tqdm(range(batch_count)):\n",
        "        \n",
        "        # Real images\n",
        "        image_batch = x1_train[index * batch_size: (index + 1) * batch_size]\n",
        "        \n",
        "        # Get initial random input for generator\n",
        "        noise = np.random.uniform(-1, 1, size=[batch_size, 100])\n",
        "        # Generating images\n",
        "        generated_data = generator.predict_on_batch(noise)\n",
        "\n",
        "        X = np.concatenate([generated_data, image_batch])\n",
        "        y = np.zeros(2 * batch_size)\n",
        "        y[:batch_size] = 1\n",
        "\n",
        "        # Train discriminator\n",
        "        discriminator.trainable = True\n",
        "        discriminator.train_on_batch(x=X, y=y)\n",
        "\n",
        "        # Train generator \n",
        "        y = np.zeros(batch_size)\n",
        "        discriminator.trainable = False\n",
        "        gan.train_on_batch(x=noise, y=y)\n",
        "        \n",
        "        img = generated_images = generator.predict(noise)   \n",
        "\n",
        "plotGeneratedImages()\n"
      ],
      "execution_count": 8,
      "outputs": [
        {
          "output_type": "stream",
          "text": [
            "100%|██████████| 1875/1875 [01:10<00:00, 26.66it/s]\n",
            "100%|██████████| 1875/1875 [01:07<00:00, 27.95it/s]\n",
            "100%|██████████| 1875/1875 [01:08<00:00, 28.24it/s]\n",
            "100%|██████████| 1875/1875 [01:07<00:00, 28.11it/s]\n",
            "100%|██████████| 1875/1875 [01:07<00:00, 28.00it/s]\n",
            "100%|██████████| 1875/1875 [01:07<00:00, 28.03it/s]\n",
            "100%|██████████| 1875/1875 [01:07<00:00, 27.57it/s]\n",
            "100%|██████████| 1875/1875 [01:07<00:00, 28.45it/s]\n",
            "100%|██████████| 1875/1875 [01:06<00:00, 28.03it/s]\n",
            "100%|██████████| 1875/1875 [01:07<00:00, 28.02it/s]\n"
          ],
          "name": "stderr"
        },
        {
          "output_type": "display_data",
          "data": {
            "image/png": "[encoded data removed]",
            "text/plain": [
              "<matplotlib.figure.Figure at 0x7f3a388b8550>"
            ]
          },
          "metadata": {
            "tags": []
          }
        }
      ]
    }
  ]
}